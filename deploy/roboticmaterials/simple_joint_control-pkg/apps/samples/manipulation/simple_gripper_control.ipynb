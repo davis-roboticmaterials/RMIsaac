{
 "cells": [
  {
   "cell_type": "code",
   "execution_count": 1,
   "metadata": {},
   "outputs": [
    {
     "data": {
      "text/plain": [
       "'/home/davis/deploy/davis/simple_joint_control-pkg'"
      ]
     },
     "execution_count": 1,
     "metadata": {},
     "output_type": "execute_result"
    }
   ],
   "source": [
    "import os\n",
    "# set the current working directory to the deployed package folder. This is required by isaac.\n",
    "# This cell should only run once.\n",
    "os.chdir(\"/home/davis/deploy/davis/simple_joint_control-pkg\")\n",
    "os.getcwd()"
   ]
  },
  {
   "cell_type": "code",
   "execution_count": 2,
   "metadata": {},
   "outputs": [],
   "source": [
    "from IPython.display import display\n",
    "import json\n",
    "import numpy as np\n",
    "import time\n",
    "import threading\n",
    "\n",
    "from engine.pyalice import Application, Codelet\n",
    "from engine.pyalice.gui.composite_widget import CompositeWidget\n",
    "from engine.pyalice.Composite import parse_composite_message\n",
    "\n",
    "np.set_printoptions(precision=3)"
   ]
  },
  {
   "cell_type": "code",
   "execution_count": 39,
   "metadata": {},
   "outputs": [],
   "source": [
    "# A Python codelet for joint control through widget\n",
    "class JointPositionControl(Codelet):\n",
    "    def start(self):\n",
    "        self.rx = self.isaac_proto_rx(\"CompositeProto\", \"state\")\n",
    "        self.tx = self.isaac_proto_tx(\"CompositeProto\", \"command\")\n",
    "\n",
    "        joints = self.config.joints\n",
    "        limits = self.config.limits\n",
    "        self._widget = CompositeWidget(joints, \"position\", limits)\n",
    "        if self._widget is None:\n",
    "            report_failure(\"Cannot create valid widget\")\n",
    "            return\n",
    "        display(self._widget.panel)\n",
    "\n",
    "        self.tick_periodically(0.1)\n",
    "\n",
    "    def tick(self):\n",
    "        state_msg = self.rx.message\n",
    "        if state_msg is None:\n",
    "            return\n",
    "        \n",
    "        print(parse_composite_message(state_msg, self._widget.composite._quantities))\n",
    "\n",
    "        self._widget.composite = state_msg\n",
    "\n",
    "        self.tx._msg = self._widget.composite\n",
    "        if self.tx._msg is not None:\n",
    "            self.tx.publish()"
   ]
  },
  {
   "cell_type": "markdown",
   "metadata": {},
   "source": [
    "UR10 with Smarthand in Omniverse Isaac Sim\n",
    "======\n"
   ]
  },
  {
   "cell_type": "code",
   "execution_count": 40,
   "metadata": {},
   "outputs": [
    {
     "name": "stdout",
     "output_type": "stream",
     "text": [
      "['shoulder_pan_joint', 'shoulder_lift_joint', 'elbow_joint', 'wrist_1_joint', 'wrist_2_joint', 'wrist_3_joint', 'left_finger', 'left_finger_joint', 'left_finger_upper', 'right_finger', 'right_finger_joint', 'right_finger_upper']\n"
     ]
    }
   ],
   "source": [
    "# set kinematic file and get list of joints\n",
    "kinematic_file = \"/home/davis/deploy/davis/rm_isaac_bridge-pkg/apps/assets/kinematic_trees/rm_ur10.kinematic.json\"\n",
    "joints = []\n",
    "with open(kinematic_file,'r') as fd:\n",
    "    kt = json.load(fd)\n",
    "    for link in kt['links']:\n",
    "        if 'motor' in link and link['motor']['type'] != 'constant':\n",
    "            joints.append(link['name'])\n",
    "print(joints)"
   ]
  },
  {
   "cell_type": "code",
   "execution_count": 41,
   "metadata": {},
   "outputs": [
    {
     "name": "stderr",
     "output_type": "stream",
     "text": [
      "2020-11-13 11:36:02,799 DEBUG Binding PyCodelet command_generator/PyCodelet\n"
     ]
    }
   ],
   "source": [
    "app = Application(name=\"simple_joint_control_smarthand_sim\")\n",
    "\n",
    "# load subgraphcs\n",
    "app.load(filename=\"packages/planner/apps/multi_joint_lqr_control.subgraph.json\", prefix=\"lqr\")\n",
    "app.load(filename=\"packages/navsim/apps/navsim_tcp.subgraph.json\", prefix=\"simulation\")\n",
    "# edges\n",
    "simulation_node = app.nodes[\"simulation.interface\"]\n",
    "lqr_interface = app.nodes[\"lqr.subgraph\"][\"interface\"]\n",
    "app.connect(simulation_node[\"output\"], \"joint_state\", lqr_interface, \"joint_state\")\n",
    "app.connect(lqr_interface, \"joint_command\", simulation_node[\"input\"], \"joint_position\")\n",
    "# configs\n",
    "app.nodes[\"lqr.kinematic_tree\"][\"KinematicTree\"].config.kinematic_file = kinematic_file\n",
    "lqr_planner = app.nodes[\"lqr.local_plan\"][\"MultiJointLqrPlanner\"]\n",
    "lqr_planner.config.speed_min = [-50.0] * len(joints)\n",
    "lqr_planner.config.speed_max = [50.0] * len(joints)\n",
    "lqr_planner.config.acceleration_min = [-50.0] * len(joints)\n",
    "lqr_planner.config.acceleration_max = [50.0] * len(joints)\n",
    "\n",
    "# add pycodelet JointPositionControl\n",
    "widget_node = app.add(\"command_generator\")\n",
    "joint_commander = widget_node.add(JointPositionControl)\n",
    "joint_commander.config.joints = joints\n",
    "joint_commander.config.limits = [[-7, 7]] * len(joints)\n",
    "app.connect(joint_commander, \"command\", lqr_interface, \"joint_target\")\n",
    "app.connect(simulation_node[\"output\"], \"joint_state\", joint_commander, \"state\")"
   ]
  },
  {
   "cell_type": "code",
   "execution_count": 42,
   "metadata": {},
   "outputs": [
    {
     "name": "stderr",
     "output_type": "stream",
     "text": [
      "2020-11-13 11:36:03,279 DEBUG Launching isaac core\n",
      "2020-11-13 11:36:03,280 DEBUG Launching pycodelet threads\n",
      "2020-11-13 11:36:03,288 DEBUG Launching command_generator/PyCodelet\n"
     ]
    },
    {
     "data": {
      "application/vnd.jupyter.widget-view+json": {
       "model_id": "9914ac6d71e2480a82ceebe2868030b2",
       "version_major": 2,
       "version_minor": 0
      },
      "text/plain": [
       "VBox(children=(HBox(children=(Label(value='shoulder_pan_joint', layout=Layout(width='150px')), FloatSlider(val…"
      ]
     },
     "metadata": {},
     "output_type": "display_data"
    },
    {
     "name": "stderr",
     "output_type": "stream",
     "text": [
      "2020-11-13 11:36:03,597 DEBUG Stopped command_generator/PyCodelet\n"
     ]
    }
   ],
   "source": [
    "app.start()"
   ]
  },
  {
   "cell_type": "code",
   "execution_count": 38,
   "metadata": {},
   "outputs": [
    {
     "name": "stderr",
     "output_type": "stream",
     "text": [
      "2020-11-13 11:35:59,142 DEBUG Python Codelets All stopped...\n",
      "2020-11-13 11:35:59,142 CRITICAL (<class 'ValueError'>, ValueError(\"Missing ['left_finger', 'position', 1] in composite message\",), <traceback object at 0x7fc455e1e288>)\n"
     ]
    },
    {
     "ename": "RuntimeError",
     "evalue": "Exceptions happened on PyCodelet Thread(s)",
     "output_type": "error",
     "traceback": [
      "\u001b[0;31m---------------------------------------------------------------------------\u001b[0m",
      "\u001b[0;31mRuntimeError\u001b[0m                              Traceback (most recent call last)",
      "\u001b[0;32m<ipython-input-38-a0e06fdbdfd7>\u001b[0m in \u001b[0;36m<module>\u001b[0;34m\u001b[0m\n\u001b[1;32m      1\u001b[0m \u001b[0;31m# stop Isaac app\u001b[0m\u001b[0;34m\u001b[0m\u001b[0;34m\u001b[0m\u001b[0;34m\u001b[0m\u001b[0m\n\u001b[0;32m----> 2\u001b[0;31m \u001b[0mapp\u001b[0m\u001b[0;34m.\u001b[0m\u001b[0mstop\u001b[0m\u001b[0;34m(\u001b[0m\u001b[0;34m)\u001b[0m\u001b[0;34m\u001b[0m\u001b[0;34m\u001b[0m\u001b[0m\n\u001b[0m",
      "\u001b[0;32m~/deploy/davis/simple_joint_control-pkg/engine/pyalice/Application.py\u001b[0m in \u001b[0;36mstop\u001b[0;34m(self)\u001b[0m\n\u001b[1;32m    315\u001b[0m         \u001b[0;32mwhile\u001b[0m \u001b[0;32mnot\u001b[0m \u001b[0mself\u001b[0m\u001b[0;34m.\u001b[0m\u001b[0m_queue\u001b[0m\u001b[0;34m.\u001b[0m\u001b[0mempty\u001b[0m\u001b[0;34m(\u001b[0m\u001b[0;34m)\u001b[0m\u001b[0;34m:\u001b[0m\u001b[0;34m\u001b[0m\u001b[0;34m\u001b[0m\u001b[0m\n\u001b[1;32m    316\u001b[0m             \u001b[0mself\u001b[0m\u001b[0;34m.\u001b[0m\u001b[0mlogger\u001b[0m\u001b[0;34m.\u001b[0m\u001b[0mcritical\u001b[0m\u001b[0;34m(\u001b[0m\u001b[0mstr\u001b[0m\u001b[0;34m(\u001b[0m\u001b[0mself\u001b[0m\u001b[0;34m.\u001b[0m\u001b[0m_queue\u001b[0m\u001b[0;34m.\u001b[0m\u001b[0mget\u001b[0m\u001b[0;34m(\u001b[0m\u001b[0;34m)\u001b[0m\u001b[0;34m)\u001b[0m\u001b[0;34m)\u001b[0m\u001b[0;34m\u001b[0m\u001b[0;34m\u001b[0m\u001b[0m\n\u001b[0;32m--> 317\u001b[0;31m         \u001b[0;32mraise\u001b[0m \u001b[0mRuntimeError\u001b[0m\u001b[0;34m(\u001b[0m\u001b[0;34m'Exceptions happened on PyCodelet Thread(s)'\u001b[0m\u001b[0;34m)\u001b[0m\u001b[0;34m\u001b[0m\u001b[0;34m\u001b[0m\u001b[0m\n\u001b[0m\u001b[1;32m    318\u001b[0m \u001b[0;34m\u001b[0m\u001b[0m\n\u001b[1;32m    319\u001b[0m     \u001b[0;32mdef\u001b[0m \u001b[0madd\u001b[0m\u001b[0;34m(\u001b[0m\u001b[0mself\u001b[0m\u001b[0;34m,\u001b[0m \u001b[0mname\u001b[0m\u001b[0;34m:\u001b[0m \u001b[0mstr\u001b[0m\u001b[0;34m,\u001b[0m \u001b[0mcomponents\u001b[0m\u001b[0;34m:\u001b[0m \u001b[0mList\u001b[0m\u001b[0;34m[\u001b[0m\u001b[0mstr\u001b[0m\u001b[0;34m]\u001b[0m \u001b[0;34m=\u001b[0m \u001b[0;32mNone\u001b[0m\u001b[0;34m,\u001b[0m \u001b[0mcreate_message_ledger\u001b[0m\u001b[0;34m=\u001b[0m\u001b[0;32mTrue\u001b[0m\u001b[0;34m)\u001b[0m\u001b[0;34m:\u001b[0m\u001b[0;34m\u001b[0m\u001b[0;34m\u001b[0m\u001b[0m\n",
      "\u001b[0;31mRuntimeError\u001b[0m: Exceptions happened on PyCodelet Thread(s)"
     ]
    }
   ],
   "source": [
    "# stop Isaac app\n",
    "app.stop()"
   ]
  },
  {
   "cell_type": "markdown",
   "metadata": {},
   "source": [
    "Kinova Jaco (gen2, 7 joints) Hardware\n",
    "======\n",
    "\n",
    "Install the KinoveJaco SDK in /opt/JACO2SDK (tested with v1.4.2) and connect to workstation via USB. Make sure the USB port has write permission"
   ]
  },
  {
   "cell_type": "code",
   "execution_count": null,
   "metadata": {},
   "outputs": [],
   "source": [
    "kinematic_file = \"apps/assets/kinematic_trees/kinova_j2n7.kinematic.json\"\n",
    "joints = []\n",
    "with open(kinematic_file,'r') as fd:\n",
    "    kt = json.load(fd)\n",
    "    for link in kt['links']:\n",
    "        if 'motor' in link and link['motor']['type'] != 'constant':\n",
    "            joints.append(link['name'])\n",
    "print(joints)"
   ]
  },
  {
   "cell_type": "code",
   "execution_count": null,
   "metadata": {},
   "outputs": [],
   "source": [
    "app = Application(name=\"simple_joint_control_kinova_real\")\n",
    "\n",
    "# load lqr subgraphcs\n",
    "app.load(filename=\"packages/planner/apps/multi_joint_lqr_control.subgraph.json\", prefix=\"lqr\")\n",
    "lqr_interface = app.nodes[\"lqr.subgraph\"][\"interface\"]\n",
    "# add kinova driver codelet\n",
    "app.load_module(\"kinova_jaco\")\n",
    "driver = app.add(\"driver\").add(app.registry.isaac.kinova_jaco.KinovaJaco)\n",
    "# edges\n",
    "app.connect(driver, \"arm_state\", lqr_interface, \"joint_state\")\n",
    "app.connect(lqr_interface, \"joint_command\", driver, \"arm_command\")\n",
    "# configs\n",
    "app.nodes[\"lqr.kinematic_tree\"][\"KinematicTree\"].config.kinematic_file = kinematic_file\n",
    "lqr_planner = app.nodes[\"lqr.local_plan\"][\"MultiJointLqrPlanner\"]\n",
    "lqr_planner.config.speed_min = [-0.5] * len(joints)\n",
    "lqr_planner.config.speed_max = [0.5] * len(joints)\n",
    "lqr_planner.config.acceleration_min = [-0.5] * len(joints)\n",
    "lqr_planner.config.acceleration_max = [0.5] * len(joints)\n",
    "driver.config.kinematic_tree = \"lqr.kinematic_tree\"\n",
    "driver.config.kinova_jaco_sdk_path = \"/opt/JACO2SDK/API/\"\n",
    "driver.config.tick_period = \"50ms\"\n",
    "\n",
    "# add pycodelet JointPositionControl\n",
    "widget_node = app.add(\"command_generator\")\n",
    "joint_commander = widget_node.add(JointPositionControl)\n",
    "joint_commander.config.joints = joints\n",
    "joint_commander.config.limits = [[-2*np.pi, 2*np.pi]] * len(joints)\n",
    "app.connect(joint_commander, \"command\", lqr_interface, \"joint_target\")\n",
    "app.connect(driver, \"arm_state\", joint_commander, \"state\")\n",
    "                            \n",
    "app.start()"
   ]
  },
  {
   "cell_type": "code",
   "execution_count": null,
   "metadata": {},
   "outputs": [],
   "source": [
    "app.stop()"
   ]
  }
 ],
 "metadata": {
  "kernelspec": {
   "display_name": "Python 3",
   "language": "python",
   "name": "python3"
  },
  "language_info": {
   "codemirror_mode": {
    "name": "ipython",
    "version": 3
   },
   "file_extension": ".py",
   "mimetype": "text/x-python",
   "name": "python",
   "nbconvert_exporter": "python",
   "pygments_lexer": "ipython3",
   "version": "3.6.9"
  }
 },
 "nbformat": 4,
 "nbformat_minor": 4
}
