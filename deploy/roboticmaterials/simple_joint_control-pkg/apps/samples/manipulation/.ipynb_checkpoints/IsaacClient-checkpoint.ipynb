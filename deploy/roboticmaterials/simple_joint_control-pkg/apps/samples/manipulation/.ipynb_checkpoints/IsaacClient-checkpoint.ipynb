{
 "cells": [
  {
   "cell_type": "code",
   "execution_count": 2,
   "metadata": {},
   "outputs": [
    {
     "data": {
      "text/plain": [
       "'/home/davis/deploy/davis/simple_joint_control-pkg/apps/samples/manipulation'"
      ]
     },
     "execution_count": 2,
     "metadata": {},
     "output_type": "execute_result"
    }
   ],
   "source": [
    "os.getcwd()"
   ]
  },
  {
   "cell_type": "code",
   "execution_count": null,
   "metadata": {},
   "outputs": [],
   "source": [
    "import os\n",
    "# set the current working directory to the deployed package folder. This is required by isaac.\n",
    "# This cell should only run once.\n",
    "os.chdir(\"/home/davis/deploy/davis/simple_joint_control-pkg\")\n",
    "os.getcwd()"
   ]
  },
  {
   "cell_type": "code",
   "execution_count": null,
   "metadata": {},
   "outputs": [],
   "source": [
    "from IPython.display import display\n",
    "import json\n",
    "import numpy as np\n",
    "import time\n",
    "import threading\n",
    "\n",
    "from engine.pyalice import Application, Codelet\n",
    "from engine.pyalice.gui.composite_widget import CompositeWidget\n",
    "from engine.pyalice import Message, Composite\n",
    "\n",
    "np.set_printoptions(precision=3)"
   ]
  },
  {
   "cell_type": "code",
   "execution_count": null,
   "metadata": {},
   "outputs": [],
   "source": [
    "# A Python codelet for joint control through widget\n",
    "class JointPositionControl(Codelet):\n",
    "    def start(self):\n",
    "        self.rx = self.isaac_proto_rx(\"CompositeProto\", \"state\")\n",
    "        self.tx = self.isaac_proto_tx(\"CompositeProto\", \"command\")\n",
    "\n",
    "        joints = self.config.joints\n",
    "        limits = self.config.limits\n",
    "        self._widget = CompositeWidget(joints, \"position\", limits)\n",
    "        if self._widget is None:\n",
    "            report_failure(\"Cannot create valid widget\")\n",
    "            return\n",
    "        display(self._widget.panel)\n",
    "\n",
    "        self.tick_periodically(0.1)\n",
    "        \n",
    "    def get_joints(self):\n",
    "        return Composite.parse_composite_message(self._widget.composite)\n",
    "\n",
    "    def tick(self):\n",
    "        state_msg = self.rx.message\n",
    "        if state_msg is None:\n",
    "            return\n",
    "        self._widget.composite = state_msg\n",
    "    \n",
    "        self.tx._msg = self._widget.composite\n",
    "        if self.tx._msg is not None:\n",
    "            self.tx.publish()"
   ]
  },
  {
   "cell_type": "code",
   "execution_count": null,
   "metadata": {},
   "outputs": [],
   "source": [
    "# A Python codelet for printing messages\n",
    "class PrinterCodelet(Codelet):\n",
    "    def start(self):\n",
    "        self.rx = self.isaac_proto_rx(\"CompositeProto\", \"ping\")\n",
    "        self.tx = self.isaac_proto_tx(\"CompositeProto\", \"pong\")\n",
    "        \n",
    "        self.tick_on_message(self.rx)\n",
    "        \n",
    "    def tick(self):\n",
    "        print('pinged by server')"
   ]
  },
  {
   "cell_type": "code",
   "execution_count": null,
   "metadata": {},
   "outputs": [],
   "source": [
    "app = Application(name=\"isaac_client\")\n",
    "\n",
    "# load subgraphcs\n",
    "app.load(filename=\"packages/planner/apps/multi_joint_lqr_control.subgraph.json\", prefix=\"lqr\")\n",
    "app.load(filename=\"packages/navsim/apps/navsim_tcp.subgraph.json\", prefix=\"simulation\")\n",
    "app.load(filename=\"apps/samples/manipulation/IsaacClient.json\", prefix=\"client\")\n",
    "\n",
    "# edges\n",
    "simulation_node = app.nodes[\"simulation.interface\"]\n",
    "lqr_interface = app.nodes[\"lqr.subgraph\"][\"interface\"]\n",
    "app.connect(simulation_node[\"output\"], \"joint_state\", lqr_interface, \"joint_state\")\n",
    "app.connect(lqr_interface, \"joint_command\", simulation_node[\"input\"], \"joint_position\")\n",
    "\n",
    "# configs\n",
    "app.nodes[\"lqr.kinematic_tree\"][\"KinematicTree\"].config.kinematic_file = kinematic_file\n",
    "lqr_planner = app.nodes[\"lqr.local_plan\"][\"MultiJointLqrPlanner\"]\n",
    "lqr_planner.config.speed_min = [-1.0] * len(joints)\n",
    "lqr_planner.config.speed_max = [1.0] * len(joints)\n",
    "lqr_planner.config.acceleration_min = [-1.0] * len(joints)\n",
    "lqr_planner.config.acceleration_max = [1.0] * len(joints)\n",
    "\n",
    "# add pycodelet JointPositionControl\n",
    "widget_node = app.add(\"command_generator\")\n",
    "joint_commander = widget_node.add(JointPositionControl, 'position_control')\n",
    "joint_commander.config.joints = joints\n",
    "joint_commander.config.limits = [[-2*np.pi, 2*np.pi]] * len(joints)\n",
    "app.connect(joint_commander, \"command\", lqr_interface, \"joint_target\")\n",
    "app.connect(simulation_node[\"output\"], \"joint_state\", joint_commander, \"state\")\n",
    "             \n",
    "app.start()"
   ]
  }
 ],
 "metadata": {
  "kernelspec": {
   "display_name": "Python 3",
   "language": "python",
   "name": "python3"
  },
  "language_info": {
   "codemirror_mode": {
    "name": "ipython",
    "version": 3
   },
   "file_extension": ".py",
   "mimetype": "text/x-python",
   "name": "python",
   "nbconvert_exporter": "python",
   "pygments_lexer": "ipython3",
   "version": "3.6.9"
  }
 },
 "nbformat": 4,
 "nbformat_minor": 4
}
