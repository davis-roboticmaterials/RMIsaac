{
 "cells": [
  {
   "cell_type": "code",
   "execution_count": 1,
   "metadata": {},
   "outputs": [
    {
     "data": {
      "text/plain": [
       "'/home/davis/isaac/apps/samples/python_api'"
      ]
     },
     "execution_count": 1,
     "metadata": {},
     "output_type": "execute_result"
    }
   ],
   "source": [
    "import os\n",
    "os.getcwd()"
   ]
  },
  {
   "cell_type": "code",
   "execution_count": 2,
   "metadata": {},
   "outputs": [
    {
     "data": {
      "text/plain": [
       "'/home/davis/isaac'"
      ]
     },
     "execution_count": 2,
     "metadata": {},
     "output_type": "execute_result"
    }
   ],
   "source": [
    "os.chdir(\"../../..\")\n",
    "os.getcwd()"
   ]
  },
  {
   "cell_type": "code",
   "execution_count": 3,
   "metadata": {},
   "outputs": [
    {
     "ename": "ImportError",
     "evalue": "cannot import name 'PybindMessage'",
     "output_type": "error",
     "traceback": [
      "\u001b[0;31m---------------------------------------------------------------------------\u001b[0m",
      "\u001b[0;31mImportError\u001b[0m                               Traceback (most recent call last)",
      "\u001b[0;32m<ipython-input-3-a6f97755adf5>\u001b[0m in \u001b[0;36m<module>\u001b[0;34m\u001b[0m\n\u001b[1;32m      2\u001b[0m \u001b[0mCHANNEL\u001b[0m\u001b[0;34m=\u001b[0m\u001b[0;34m'color'\u001b[0m\u001b[0;34m\u001b[0m\u001b[0;34m\u001b[0m\u001b[0m\n\u001b[1;32m      3\u001b[0m \u001b[0;34m\u001b[0m\u001b[0m\n\u001b[0;32m----> 4\u001b[0;31m \u001b[0;32mfrom\u001b[0m \u001b[0mengine\u001b[0m\u001b[0;34m.\u001b[0m\u001b[0mpyalice\u001b[0m \u001b[0;32mimport\u001b[0m \u001b[0mApplication\u001b[0m\u001b[0;34m,\u001b[0m \u001b[0mCodelet\u001b[0m\u001b[0;34m\u001b[0m\u001b[0;34m\u001b[0m\u001b[0m\n\u001b[0m\u001b[1;32m      5\u001b[0m \u001b[0;32mimport\u001b[0m \u001b[0mio\u001b[0m\u001b[0;34m,\u001b[0m \u001b[0mipywidgets\u001b[0m\u001b[0;34m,\u001b[0m \u001b[0mIPython\u001b[0m\u001b[0;34m\u001b[0m\u001b[0;34m\u001b[0m\u001b[0m\n\u001b[1;32m      6\u001b[0m \u001b[0;32mfrom\u001b[0m \u001b[0mPIL\u001b[0m \u001b[0;32mimport\u001b[0m \u001b[0mImage\u001b[0m\u001b[0;34m\u001b[0m\u001b[0;34m\u001b[0m\u001b[0m\n",
      "\u001b[0;32m~/isaac/engine/pyalice/__init__.py\u001b[0m in \u001b[0;36m<module>\u001b[0;34m\u001b[0m\n\u001b[1;32m     11\u001b[0m \u001b[0;31m# Modules to be included upon import of package\u001b[0m\u001b[0;34m\u001b[0m\u001b[0;34m\u001b[0m\u001b[0;34m\u001b[0m\u001b[0m\n\u001b[1;32m     12\u001b[0m \u001b[0;34m\u001b[0m\u001b[0m\n\u001b[0;32m---> 13\u001b[0;31m \u001b[0;32mfrom\u001b[0m \u001b[0;34m.\u001b[0m \u001b[0;32mimport\u001b[0m \u001b[0mMessage\u001b[0m\u001b[0;34m\u001b[0m\u001b[0;34m\u001b[0m\u001b[0m\n\u001b[0m\u001b[1;32m     14\u001b[0m \u001b[0;32mfrom\u001b[0m \u001b[0;34m.\u001b[0m \u001b[0;32mimport\u001b[0m \u001b[0mComposite\u001b[0m\u001b[0;34m\u001b[0m\u001b[0;34m\u001b[0m\u001b[0m\n\u001b[1;32m     15\u001b[0m \u001b[0;32mfrom\u001b[0m \u001b[0;34m.\u001b[0m\u001b[0mApplication\u001b[0m \u001b[0;32mimport\u001b[0m \u001b[0mApplication\u001b[0m\u001b[0;34m\u001b[0m\u001b[0;34m\u001b[0m\u001b[0m\n",
      "\u001b[0;32m~/isaac/engine/pyalice/Message.py\u001b[0m in \u001b[0;36m<module>\u001b[0;34m\u001b[0m\n\u001b[1;32m     13\u001b[0m \u001b[0;32mfrom\u001b[0m \u001b[0;34m.\u001b[0m\u001b[0mCapnpMessages\u001b[0m \u001b[0;32mimport\u001b[0m \u001b[0mget_capnp_proto_schemata\u001b[0m\u001b[0;34m,\u001b[0m \u001b[0mcapnp_schema_type_id_dict\u001b[0m\u001b[0;34m\u001b[0m\u001b[0;34m\u001b[0m\u001b[0m\n\u001b[1;32m     14\u001b[0m \u001b[0;32mfrom\u001b[0m \u001b[0mcapnp\u001b[0m\u001b[0;34m.\u001b[0m\u001b[0mlib\u001b[0m\u001b[0;34m.\u001b[0m\u001b[0mcapnp\u001b[0m \u001b[0;32mimport\u001b[0m \u001b[0m_DynamicStructBuilder\u001b[0m    \u001b[0;31m# pylint: disable=no-name-in-module\u001b[0m\u001b[0;34m\u001b[0m\u001b[0;34m\u001b[0m\u001b[0m\n\u001b[0;32m---> 15\u001b[0;31m \u001b[0;32mfrom\u001b[0m \u001b[0;34m.\u001b[0m\u001b[0mbindings\u001b[0m \u001b[0;32mimport\u001b[0m \u001b[0mPybindMessage\u001b[0m    \u001b[0;31m# pylint: disable=no-name-in-module\u001b[0m\u001b[0;34m\u001b[0m\u001b[0;34m\u001b[0m\u001b[0m\n\u001b[0m\u001b[1;32m     16\u001b[0m \u001b[0;32mfrom\u001b[0m \u001b[0mtyping\u001b[0m \u001b[0;32mimport\u001b[0m \u001b[0mList\u001b[0m\u001b[0;34m\u001b[0m\u001b[0;34m\u001b[0m\u001b[0m\n\u001b[1;32m     17\u001b[0m \u001b[0;34m\u001b[0m\u001b[0m\n",
      "\u001b[0;31mImportError\u001b[0m: cannot import name 'PybindMessage'"
     ]
    }
   ],
   "source": [
    "CASK_PATH='</path/to/cask/>'\n",
    "CHANNEL='color'\n",
    "\n",
    "from engine.pyalice import Application, Codelet\n",
    "import io, ipywidgets, IPython\n",
    "from PIL import Image\n",
    "# View the images\n",
    "image_widget = ipywidgets.Image(height=720, width=1280)"
   ]
  },
  {
   "cell_type": "code",
   "execution_count": null,
   "metadata": {},
   "outputs": [],
   "source": [
    "class Viewer(Codelet):\n",
    "    def __init__(self):\n",
    "        self.widget=None\n",
    "    \n",
    "    def start(self):\n",
    "        self.rx = self.isaac_proto_rx(\"ColorCameraProto\", \"color\")\n",
    "        self.tick_on_message(self.rx)\n",
    "\n",
    "    def tick(self):\n",
    "        msg = self.rx.message\n",
    "        if self.widget is None:\n",
    "            return\n",
    "        t = msg.tensor\n",
    "        bts = io.BytesIO()\n",
    "        Image.fromarray(t).save(bts, 'png')\n",
    "        self.widget.value = bts.getvalue()"
   ]
  },
  {
   "cell_type": "code",
   "execution_count": null,
   "metadata": {},
   "outputs": [],
   "source": [
    "IPython.display.display(image_widget)\n",
    "\n",
    "app = Application()\n",
    " \n",
    "replay_node = app.add('replay')\n",
    "replay_component = replay_node.add(app.registry.isaac.alice.Replay)\n",
    "replay_component.config['cask_directory'] = CASK_PATH\n",
    "replay_component.config['report_success'] = True\n",
    "\n",
    "viewer_node = app.add('viewer')\n",
    "viewer_component = viewer_node.add(Viewer)\n",
    "\n",
    "app.connect(replay_component, 'color', viewer_component, 'color')\n",
    "\n",
    "app._pycodelet_frontends[viewer_component].widget=image_widget\n",
    "\n",
    "app.run(20.0)"
   ]
  },
  {
   "cell_type": "code",
   "execution_count": null,
   "metadata": {},
   "outputs": [],
   "source": [
    "app = Application()\n",
    "\n",
    "app.load_module('viewers')\n",
    "\n",
    "replay_node = app.add('replay')\n",
    "replay_component = replay_node.add(app.registry.isaac.alice.Replay)\n",
    "replay_component.config['cask_directory'] = CASK_PATH\n",
    "replay_component.config['report_success'] = True\n",
    "\n",
    "viewer_node = app.add('viewer')\n",
    "viewer_component = viewer_node.add(app.registry.isaac.viewers.ColorCameraViewer)\n",
    "widget = viewer_node.add(app.registry.isaac.sight.SightWidget)\n",
    "widget.config['type'] = '2d'\n",
    "widget.config['channels'] = [{'name':'viewer/ColorCameraViewer/Color', 'active': True}]\n",
    "widget.config['dimensions'] = [int(720), int(1280)]\n",
    "\n",
    "app.connect(replay_component, 'color', viewer_component, 'color_listener')\n",
    "\n",
    "app.run(30.0)"
   ]
  }
 ],
 "metadata": {
  "kernelspec": {
   "display_name": "Python 3",
   "language": "python",
   "name": "python3"
  },
  "language_info": {
   "codemirror_mode": {
    "name": "ipython",
    "version": 3
   },
   "file_extension": ".py",
   "mimetype": "text/x-python",
   "name": "python",
   "nbconvert_exporter": "python",
   "pygments_lexer": "ipython3",
   "version": "3.6.9"
  }
 },
 "nbformat": 4,
 "nbformat_minor": 4
}
